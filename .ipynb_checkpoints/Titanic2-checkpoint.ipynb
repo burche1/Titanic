{
 "cells": [
  {
   "cell_type": "code",
   "execution_count": 35,
   "metadata": {
    "collapsed": true
   },
   "outputs": [],
   "source": [
    "### Kaggle competition - Titanic - Machine Learning from disaster\n",
    "### Code by Hugo Padovani\n",
    "### First competition\n",
    "\n",
    "import csv as csv\n",
    "import numpy as np\n",
    "\n",
    "#importing my training data\n",
    "\n",
    "raw_data = csv.reader(open('train.csv', 'r'))\n",
    "header = raw_data.__next__() #Skipping the first line (header)\n",
    "\n",
    "data = []                #initializing my dataset\n",
    "for row in raw_data:     #Getting the rows and appending them into the data list\n",
    "    data.append(row)\n",
    "data = np.array(data)    #transforming into an array"
   ]
  },
  {
   "cell_type": "code",
   "execution_count": 36,
   "metadata": {
    "collapsed": false
   },
   "outputs": [
    {
     "name": "stderr",
     "output_type": "stream",
     "text": [
      "C:\\Users\\Hugo\\Anaconda3\\lib\\site-packages\\ipykernel\\__main__.py:10: VisibleDeprecationWarning: using a non-integer number instead of an integer will result in an error in the future\n"
     ]
    }
   ],
   "source": [
    "###Adjusting the fare bins (tamanho das divisões)\n",
    "fare_ceiling = 40   #every fare above this value will be considered in the last bin\n",
    "data[data[:,9].astype(np.float) >= fare_ceiling,9] = fare_ceiling - 1.0  #I'm getting all the values from the\n",
    "                                                                       #fare colunm above 40 and giving the value 39\n",
    "fare_bracket_size = 10                            #bin with 10 values\n",
    "number_of_price_brackets = fare_ceiling / fare_bracket_size #number of bins = 4\n",
    "\n",
    "number_of_classes = len(np.unique(data[:,2])) #number of classes = 3\n",
    "\n",
    "survival_table = np.zeros((2, number_of_classes, number_of_price_brackets),float)   #Table 2x3x4 - male/female,(1,2,3),4 bins\n"
   ]
  },
  {
   "cell_type": "code",
   "execution_count": 37,
   "metadata": {
    "collapsed": false
   },
   "outputs": [
    {
     "name": "stdout",
     "output_type": "stream",
     "text": [
      "[[[ 0.  0.  0.  0.]\n",
      "  [ 0.  0.  0.  0.]\n",
      "  [ 0.  0.  0.  0.]]\n",
      "\n",
      " [[ 0.  0.  0.  0.]\n",
      "  [ 0.  0.  0.  0.]\n",
      "  [ 0.  0.  0.  0.]]]\n"
     ]
    }
   ],
   "source": [
    "print(survival_table)"
   ]
  },
  {
   "cell_type": "code",
   "execution_count": 60,
   "metadata": {
    "collapsed": false
   },
   "outputs": [
    {
     "name": "stderr",
     "output_type": "stream",
     "text": [
      "C:\\Users\\Hugo\\Anaconda3\\lib\\site-packages\\numpy\\core\\_methods.py:59: RuntimeWarning: Mean of empty slice.\n",
      "  warnings.warn(\"Mean of empty slice.\", RuntimeWarning)\n",
      "C:\\Users\\Hugo\\Anaconda3\\lib\\site-packages\\numpy\\core\\_methods.py:70: RuntimeWarning: invalid value encountered in double_scalars\n",
      "  ret = ret.dtype.type(ret / rcount)\n"
     ]
    }
   ],
   "source": [
    "###Looping through the survival_table\n",
    "\n",
    "for i in range(number_of_classes):      #Looping through each class\n",
    "    for j in range(int(number_of_price_brackets)):     #Looping through each bin\n",
    "        \n",
    "        women_only_stats = data[(data[:,4] == \"female\") \\\n",
    "                                & (data[:,2].astype(np.float) == i+1) \\\n",
    "                                & (data[:,9].astype(np.float) >= j*fare_bracket_size) \\\n",
    "                                & (data[:,9].astype(np.float) < (j+1)*fare_bracket_size),1]                                                        #in the second colunm\n",
    "\n",
    "        \n",
    "        men_only_stats = data[(data[:,4] != 'female') \\\n",
    "                                & (data[:,2].astype(np.float) == i+1) \\\n",
    "                                & (data[:,9].astype(np.float) >= j*fare_bracket_size) \\\n",
    "                                & (data[:,9].astype(np.float) < (j+1)*fare_bracket_size), \\\n",
    "                                1]\n",
    "        \n",
    "        survival_table[0,i,j] = np.mean(women_only_stats.astype(np.float))\n",
    "        survival_table[1,i,j] = np.mean(men_only_stats.astype(np.float))\n",
    "survival_table[ survival_table != survival_table ] = 0 #avoiging nan on table"
   ]
  },
  {
   "cell_type": "code",
   "execution_count": 61,
   "metadata": {
    "collapsed": false
   },
   "outputs": [
    {
     "name": "stdout",
     "output_type": "stream",
     "text": [
      "[[[ 0.          0.          0.83333333  0.97727273]\n",
      "  [ 0.          0.91428571  0.9         1.        ]\n",
      "  [ 0.59375     0.58139535  0.33333333  0.125     ]]\n",
      "\n",
      " [[ 0.          0.          0.4         0.38372093]\n",
      "  [ 0.          0.15873016  0.16        0.21428571]\n",
      "  [ 0.11153846  0.23684211  0.125       0.24      ]]]\n"
     ]
    }
   ],
   "source": [
    "print(survival_table)"
   ]
  },
  {
   "cell_type": "code",
   "execution_count": 62,
   "metadata": {
    "collapsed": true
   },
   "outputs": [],
   "source": [
    "### Predicting 0 for those values less than 0.5 and 1 otherwise\n",
    "\n",
    "survival_table[ survival_table < 0.5 ] = 0\n",
    "survival_table[ survival_table >= 0.5 ] = 1 "
   ]
  },
  {
   "cell_type": "code",
   "execution_count": null,
   "metadata": {
    "collapsed": true
   },
   "outputs": [],
   "source": []
  }
 ],
 "metadata": {
  "kernelspec": {
   "display_name": "Python [default]",
   "language": "python",
   "name": "python3"
  },
  "language_info": {
   "codemirror_mode": {
    "name": "ipython",
    "version": 3
   },
   "file_extension": ".py",
   "mimetype": "text/x-python",
   "name": "python",
   "nbconvert_exporter": "python",
   "pygments_lexer": "ipython3",
   "version": "3.5.2"
  }
 },
 "nbformat": 4,
 "nbformat_minor": 1
}
