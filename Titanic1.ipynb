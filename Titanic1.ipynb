{
 "cells": [
  {
   "cell_type": "code",
   "execution_count": 65,
   "metadata": {
    "collapsed": false
   },
   "outputs": [],
   "source": [
    "### Kaggle competition - Titanic - Machine Learning from disaster\n",
    "### Code by Hugo Padovani\n",
    "### First competition\n",
    "\n",
    "import csv as csv\n",
    "import numpy as np\n",
    "\n",
    "#importing my training data\n",
    "\n",
    "raw_data = csv.reader(open('train.csv', 'r'))\n",
    "header = raw_data.__next__() #Skipping the first line (header)\n",
    "\n",
    "data = []                #initializing my dataset\n",
    "for row in raw_data:     #Getting the rows and appending them into the data list\n",
    "    data.append(row)\n",
    "data = np.array(data)    #transforming into an array"
   ]
  },
  {
   "cell_type": "code",
   "execution_count": 66,
   "metadata": {
    "collapsed": false
   },
   "outputs": [],
   "source": [
    "###Getting some indicators\n",
    "\n",
    "number_passengers = np.size(data[:,1].astype(np.float))    #counting the number of passengers\n",
    "number_survived = np.sum(data[:,1].astype(np.float))       #counting the number of survivors\n",
    "survival_rate = number_survived / number_passengers        #the survival rate\n",
    "\n",
    "stats_female = data[:,4] == 'female'                     #status of female, return true for female\n",
    "stats_male = data[:,4] == 'male'                         #status of male, return true for male\n",
    "\n",
    "women_on_board = data[stats_female,1].astype(np.float)   #indexes of females\n",
    "men_on_board = data[stats_male,1].astype(np.float)       #indexes of males\n",
    "\n",
    "proportion_female_survived = np.sum(women_on_board) / np.size(women_on_board)  #proportion of females who survived\n",
    "proportion_male_survived = np.sum(men_on_board) / np.size(men_on_board)        #proportion of males who survived\n"
   ]
  },
  {
   "cell_type": "code",
   "execution_count": 68,
   "metadata": {
    "collapsed": false
   },
   "outputs": [],
   "source": [
    "###Reading the test set\n",
    "test_file = open('test.csv', 'r')\n",
    "test_file_object = csv.reader(test_file)\n",
    "header = test_file_object.__next__()\n",
    "\n",
    "prediction_file = open('genderbasemodel.csv','w')\n",
    "prediction_file_object = csv.writer(prediction_file)"
   ]
  },
  {
   "cell_type": "code",
   "execution_count": 69,
   "metadata": {
    "collapsed": false
   },
   "outputs": [],
   "source": [
    "prediction_file_object.writerow([\"PassengerId\", \"Survived\"])   #Writing the header\n",
    "for row in test_file_object:                                    #iterating through the rows in test_file_object\n",
    "    if row[3] == 'female':\n",
    "        prediction_file_object.writerow([row[0],'1'])             #predicting 1 for every women\n",
    "    else:\n",
    "        prediction_file_object.writerow([row[0], '0'])            #predicting 0 for every men\n",
    "test_file.close()\n",
    "prediction_file.close()"
   ]
  },
  {
   "cell_type": "code",
   "execution_count": null,
   "metadata": {
    "collapsed": true
   },
   "outputs": [],
   "source": []
  }
 ],
 "metadata": {
  "anaconda-cloud": {},
  "kernelspec": {
   "display_name": "Python [default]",
   "language": "python",
   "name": "python3"
  },
  "language_info": {
   "codemirror_mode": {
    "name": "ipython",
    "version": 3
   },
   "file_extension": ".py",
   "mimetype": "text/x-python",
   "name": "python",
   "nbconvert_exporter": "python",
   "pygments_lexer": "ipython3",
   "version": "3.5.2"
  }
 },
 "nbformat": 4,
 "nbformat_minor": 1
}
